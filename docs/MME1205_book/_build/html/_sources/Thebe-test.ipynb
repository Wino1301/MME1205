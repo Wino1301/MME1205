{
 "cells": [
  {
   "cell_type": "markdown",
   "id": "ea737109",
   "metadata": {},
   "source": [
    "# Example of Live Feedback In Class"
   ]
  },
  {
   "cell_type": "markdown",
   "id": "8afb7496",
   "metadata": {},
   "source": [
    "This page serves as an exmaple to use Thebe in live class \n",
    "---\n",
    "- Thebe allows live code edits and runs using BinderHub \n",
    "- Thebe allows hide-input so students does not have acces to cell contents\n",
    "\n",
    "--- \n",
    "- This will aid in the learnes feedback for in class excersises / labs\n",
    "---\n",
    "- Exam / Quizzes should be done entierly on colab or locally"
   ]
  },
  {
   "cell_type": "markdown",
   "id": "212b2c39",
   "metadata": {},
   "source": [
    "## Exercise 1\n",
    "\n",
    "Return the value of raising 5 to the power of 10"
   ]
  },
  {
   "cell_type": "code",
   "execution_count": 1,
   "id": "b39b8680",
   "metadata": {
    "tags": [
     "thebe-init"
    ]
   },
   "outputs": [
    {
     "data": {
      "text/plain": [
       "9765625"
      ]
     },
     "execution_count": 1,
     "metadata": {},
     "output_type": "execute_result"
    }
   ],
   "source": [
    "#Your code here\n",
    "5**10"
   ]
  },
  {
   "cell_type": "code",
   "execution_count": 2,
   "id": "c8abddf9",
   "metadata": {
    "tags": [
     "thebe-init"
    ]
   },
   "outputs": [
    {
     "name": "stdout",
     "output_type": "stream",
     "text": [
      "Hidden Tests Completed\n",
      "All good!\n"
     ]
    }
   ],
   "source": [
    "# Only thebe-init tag\n",
    "\n",
    "# Run hidden tests using assert statements\n",
    "q1 = 0\n",
    "try: \n",
    "    assert _ == 9765625\n",
    "except: \n",
    "    q1 += 1\n",
    "    print(\"That is not the correct answer\")\n",
    "    \n",
    "try:\n",
    "    assert isinstance(_, int)\n",
    "except: \n",
    "    q1 += 1\n",
    "    print(\"Result is not int\")\n",
    "\n",
    "print(\"Hidden Tests Completed\")\n",
    "if q1 != 0:\n",
    "    print(\"Try again!\")\n",
    "else: \n",
    "    print(\"All good!\")"
   ]
  },
  {
   "cell_type": "code",
   "execution_count": 3,
   "id": "71605c69",
   "metadata": {
    "tags": [
     "thebe-init",
     "hide-input"
    ]
   },
   "outputs": [
    {
     "name": "stdout",
     "output_type": "stream",
     "text": [
      "Hidden Tests Completed\n",
      "All good!\n"
     ]
    }
   ],
   "source": [
    "# thebe-init + hide-input\n",
    "\n",
    "# Run hidden tests using assert statements\n",
    "q1 = 0\n",
    "try: \n",
    "    assert _ == 9765625\n",
    "except: \n",
    "    q1 += 1\n",
    "    print(\"That is not the correct answer\")\n",
    "    \n",
    "try:\n",
    "    assert isinstance(_, int)\n",
    "except: \n",
    "    q1 += 1\n",
    "    print(\"Result is not int\")\n",
    "\n",
    "print(\"Hidden Tests Completed\")\n",
    "if q1 != 0:\n",
    "    print(\"Try again!\")\n",
    "else: \n",
    "    print(\"All good!\")"
   ]
  },
  {
   "cell_type": "code",
   "execution_count": 4,
   "id": "e374c8b8",
   "metadata": {
    "tags": [
     "thebe-init",
     "remove-input"
    ]
   },
   "outputs": [
    {
     "name": "stdout",
     "output_type": "stream",
     "text": [
      "Hidden Tests Completed\n",
      "All good!\n"
     ]
    }
   ],
   "source": [
    "#thebe-init + remove-input\n",
    "\n",
    "# Run hidden tests using assert statements\n",
    "q1 = 0\n",
    "try: \n",
    "    assert _ == 9765625\n",
    "except: \n",
    "    q1 += 1\n",
    "    print(\"That is not the correct answer\")\n",
    "    \n",
    "try:\n",
    "    assert isinstance(_, int)\n",
    "except: \n",
    "    q1 += 1\n",
    "    print(\"Result is not int\")\n",
    "\n",
    "print(\"Hidden Tests Completed\")\n",
    "if q1 != 0:\n",
    "    print(\"Try again!\")\n",
    "else: \n",
    "    print(\"All good!\")"
   ]
  },
  {
   "cell_type": "code",
   "execution_count": 5,
   "id": "f4c2c05f",
   "metadata": {},
   "outputs": [
    {
     "data": {
      "text/plain": [
       "datetime.datetime(2023, 7, 7, 19, 32, 36, 666751)"
      ]
     },
     "execution_count": 5,
     "metadata": {},
     "output_type": "execute_result"
    }
   ],
   "source": [
    "# No thebe-init tag\n",
    "\n",
    "from datetime import datetime\n",
    "datetime.now()"
   ]
  },
  {
   "cell_type": "code",
   "execution_count": null,
   "id": "9d971abf",
   "metadata": {},
   "outputs": [],
   "source": []
  }
 ],
 "metadata": {
  "jupytext": {
   "formats": "md:myst",
   "text_representation": {
    "extension": ".md",
    "format_name": "myst",
    "format_version": 0.13,
    "jupytext_version": "1.14.7"
   }
  },
  "kernelspec": {
   "display_name": "Python 3 (ipykernel)",
   "language": "python",
   "name": "python3"
  },
  "language_info": {
   "codemirror_mode": {
    "name": "ipython",
    "version": 3
   },
   "file_extension": ".py",
   "mimetype": "text/x-python",
   "name": "python",
   "nbconvert_exporter": "python",
   "pygments_lexer": "ipython3",
   "version": "3.8.17"
  },
  "source_map": [
   13,
   17,
   29,
   35,
   42,
   68,
   94,
   120,
   127
  ]
 },
 "nbformat": 4,
 "nbformat_minor": 5
}