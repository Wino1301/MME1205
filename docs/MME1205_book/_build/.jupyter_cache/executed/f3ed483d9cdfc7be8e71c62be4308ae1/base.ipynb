{
 "cells": [
  {
   "cell_type": "code",
   "execution_count": 1,
   "id": "b1083d4b",
   "metadata": {
    "tags": [
     "thebe-init"
    ]
   },
   "outputs": [
    {
     "data": {
      "text/plain": [
       "9765625"
      ]
     },
     "execution_count": 1,
     "metadata": {},
     "output_type": "execute_result"
    }
   ],
   "source": [
    "#Your code here\n",
    "5**10"
   ]
  },
  {
   "cell_type": "code",
   "execution_count": 2,
   "id": "4df2567c",
   "metadata": {
    "tags": [
     "thebe-init"
    ]
   },
   "outputs": [
    {
     "name": "stdout",
     "output_type": "stream",
     "text": [
      "Hidden Tests Completed\n",
      "All good!\n"
     ]
    }
   ],
   "source": [
    "# Only thebe-init tag\n",
    "\n",
    "# Run hidden tests using assert statements\n",
    "q1 = 0\n",
    "try: \n",
    "    assert _ == 9765625\n",
    "except: \n",
    "    q1 += 1\n",
    "    print(\"That is not the correct answer\")\n",
    "    \n",
    "try:\n",
    "    assert isinstance(_, int)\n",
    "except: \n",
    "    q1 += 1\n",
    "    print(\"Result is not int\")\n",
    "\n",
    "print(\"Hidden Tests Completed\")\n",
    "if q1 != 0:\n",
    "    print(\"Try again!\")\n",
    "else: \n",
    "    print(\"All good!\")"
   ]
  },
  {
   "cell_type": "code",
   "execution_count": 3,
   "id": "7dd84b67",
   "metadata": {
    "tags": [
     "thebe-init",
     "hide-input"
    ]
   },
   "outputs": [
    {
     "name": "stdout",
     "output_type": "stream",
     "text": [
      "Hidden Tests Completed\n",
      "All good!\n"
     ]
    }
   ],
   "source": [
    "# thebe-init + hide-input\n",
    "\n",
    "# Run hidden tests using assert statements\n",
    "q1 = 0\n",
    "try: \n",
    "    assert _ == 9765625\n",
    "except: \n",
    "    q1 += 1\n",
    "    print(\"That is not the correct answer\")\n",
    "    \n",
    "try:\n",
    "    assert isinstance(_, int)\n",
    "except: \n",
    "    q1 += 1\n",
    "    print(\"Result is not int\")\n",
    "\n",
    "print(\"Hidden Tests Completed\")\n",
    "if q1 != 0:\n",
    "    print(\"Try again!\")\n",
    "else: \n",
    "    print(\"All good!\")"
   ]
  },
  {
   "cell_type": "code",
   "execution_count": 4,
   "id": "c3faceff",
   "metadata": {
    "tags": [
     "thebe-init",
     "remove-input"
    ]
   },
   "outputs": [
    {
     "name": "stdout",
     "output_type": "stream",
     "text": [
      "Hidden Tests Completed\n",
      "All good!\n"
     ]
    }
   ],
   "source": [
    "#thebe-init + remove-input\n",
    "\n",
    "# Run hidden tests using assert statements\n",
    "q1 = 0\n",
    "try: \n",
    "    assert _ == 9765625\n",
    "except: \n",
    "    q1 += 1\n",
    "    print(\"That is not the correct answer\")\n",
    "    \n",
    "try:\n",
    "    assert isinstance(_, int)\n",
    "except: \n",
    "    q1 += 1\n",
    "    print(\"Result is not int\")\n",
    "\n",
    "print(\"Hidden Tests Completed\")\n",
    "if q1 != 0:\n",
    "    print(\"Try again!\")\n",
    "else: \n",
    "    print(\"All good!\")"
   ]
  },
  {
   "cell_type": "code",
   "execution_count": 5,
   "id": "14a48fe7",
   "metadata": {},
   "outputs": [
    {
     "data": {
      "text/plain": [
       "datetime.datetime(2023, 7, 7, 19, 5, 49, 546524)"
      ]
     },
     "execution_count": 5,
     "metadata": {},
     "output_type": "execute_result"
    }
   ],
   "source": [
    "# No thebe-init tag\n",
    "\n",
    "from datetime import datetime\n",
    "datetime.now()"
   ]
  },
  {
   "cell_type": "code",
   "execution_count": null,
   "id": "b1bf3d50",
   "metadata": {},
   "outputs": [],
   "source": []
  }
 ],
 "metadata": {
  "jupytext": {
   "text_representation": {
    "extension": ".md",
    "format_name": "myst",
    "format_version": 0.13,
    "jupytext_version": "1.14.7"
   }
  },
  "kernelspec": {
   "display_name": "Python 3 (ipykernel)",
   "language": "python",
   "name": "python3"
  },
  "language_info": {
   "codemirror_mode": {
    "name": "ipython",
    "version": 3
   },
   "file_extension": ".py",
   "mimetype": "text/x-python",
   "name": "python",
   "nbconvert_exporter": "python",
   "pygments_lexer": "ipython3",
   "version": "3.8.17"
  },
  "source_map": [
   12,
   16,
   28,
   34,
   41,
   67,
   93,
   119,
   126
  ]
 },
 "nbformat": 4,
 "nbformat_minor": 5
}