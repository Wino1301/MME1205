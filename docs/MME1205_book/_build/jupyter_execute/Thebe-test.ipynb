{
 "cells": [
  {
   "cell_type": "markdown",
   "id": "db1e6ccf",
   "metadata": {},
   "source": [
    "<!-- Configure and load Thebe !-->\n",
    "<script type=\"text/x-thebe-config\">\n",
    "  {\n",
    "    requestKernel: true,\n",
    "    binderOptions: {\n",
    "      repo: \"Wino1301/MME1205\",\n",
    "    \n",
    "    },\n",
    "  }\n",
    "</script>\n",
    "<script src=\"https://unpkg.com/thebe@latest/lib/index.js\"></script>\n"
   ]
  },
  {
   "cell_type": "markdown",
   "id": "b4948481",
   "metadata": {},
   "source": [
    "<button id=\"activateButton\"  style=\"width: 150px; height: 45px; font-size: 1.5em;\">Activate</button>\n",
    "<script>\n",
    "var bootstrapThebe = function() {\n",
    "    thebelab.bootstrap();\n",
    "}\n",
    "\n",
    "document.querySelector(\"#activateButton\").addEventListener('click', bootstrapThebe)\n",
    "</script>"
   ]
  },
  {
   "cell_type": "markdown",
   "id": "ee391087",
   "metadata": {},
   "source": [
    "# Example of Different Feedback In Class"
   ]
  },
  {
   "cell_type": "markdown",
   "id": "25a0aa34",
   "metadata": {},
   "source": [
    "This page serves as an example on how to use Thebe in live class \n",
    "---\n",
    "- Thebe allows live code edits and runs using BinderHub \n",
    "- Thebe allows non-editable options so students does not have acces to cell contents\n",
    "\n",
    "--- \n",
    "- This will aid in the learnes feedback for in class excersises / labs\n",
    "---\n",
    "- Exam / Quizzes should be done entierly on colab or locally"
   ]
  },
  {
   "cell_type": "markdown",
   "id": "02342f41",
   "metadata": {},
   "source": [
    "## Ask student for complete answer \n",
    "\n",
    "- Learning concepts on the go. \n",
    "- Test function features etc"
   ]
  },
  {
   "cell_type": "markdown",
   "id": "985d0af1",
   "metadata": {},
   "source": [
    "### Exercise 1\n",
    "\n",
    "Return the value of raising 5 to the power of 10"
   ]
  },
  {
   "cell_type": "markdown",
   "id": "37c32be5",
   "metadata": {
    "tags": [
     "thebe-init"
    ]
   },
   "source": [
    "<pre data-executable=\"true\" data-language=\"python\">\n",
    "#Your code here\n",
    "</pre>"
   ]
  },
  {
   "cell_type": "markdown",
   "id": "f25d4310",
   "metadata": {},
   "source": [
    "## Ask student for complete answer + non-editable feedback\n",
    "\n",
    "- For in session self assesment\n",
    "- For narrative building\n",
    "- Quizzes / Activities must hide the contents"
   ]
  },
  {
   "cell_type": "markdown",
   "id": "c52c6d94",
   "metadata": {},
   "source": [
    "### Execerise #2\n",
    "\n",
    "Make a list containing the numbers 1-10, name it i10"
   ]
  },
  {
   "cell_type": "markdown",
   "id": "375e2ef6",
   "metadata": {},
   "source": [
    "<pre data-executable=\"true\" data-language=\"python\">\n",
    "# Your Answer Here\n",
    "\n",
    "</pre>"
   ]
  },
  {
   "cell_type": "markdown",
   "id": "dc7876b7",
   "metadata": {},
   "source": [
    " <pre data-executable=\"true\" data-readonly=True data-language=\"python\" >\n",
    "\n",
    "q1 = 0\n",
    "try: \n",
    "    assert isinstance(i10, list)\n",
    "except: \n",
    "    q1 += 1\n",
    "    print(\"The result is not a list\")\n",
    "    \n",
    "try:\n",
    "    assert len(i10) == 10\n",
    "except: \n",
    "    q1 += 1\n",
    "    print(\"The list is not complete\")\n",
    "    \n",
    "try:\n",
    "    assert 0 not in i10\n",
    "except: \n",
    "    q1 += 1\n",
    "    print(\"List contains a number not specified\")\n",
    "\n",
    "print(\"Hidden Tests Completed\")\n",
    "if q1 != 0:\n",
    "    print(\"Try again!\")\n",
    "else: \n",
    "    print(\"All good!\")\n",
    " </pre>"
   ]
  },
  {
   "cell_type": "markdown",
   "id": "47742009",
   "metadata": {},
   "source": [
    "## Predifine variables and let students explore outputs \n",
    "\n",
    "- Set variable names and structure ex pd.DataFrame\n",
    "- Define plt axis config "
   ]
  },
  {
   "cell_type": "code",
   "execution_count": 1,
   "id": "949e2992",
   "metadata": {},
   "outputs": [],
   "source": [
    "# Show defined variables\n",
    "\n",
    "x = 10\n",
    "w = 2"
   ]
  },
  {
   "cell_type": "markdown",
   "id": "0819edc7",
   "metadata": {},
   "source": [
    "**Below this cell is a hide-input cell**\n",
    "- explore var y and z "
   ]
  },
  {
   "cell_type": "code",
   "execution_count": 2,
   "id": "222331d3",
   "metadata": {
    "tags": [
     "hide-input"
    ]
   },
   "outputs": [],
   "source": [
    "y = 3\n",
    "z = 5 "
   ]
  },
  {
   "cell_type": "markdown",
   "id": "a36295c5",
   "metadata": {},
   "source": [
    "### Excersice #3 \n",
    "\n",
    "Print previously defined variables"
   ]
  },
  {
   "cell_type": "markdown",
   "id": "577a91d9",
   "metadata": {},
   "source": [
    "<pre data-executable=\"true\" data-language=\"python\" >\n",
    "# Your Answer Here\n",
    "\n",
    "</pre>"
   ]
  },
  {
   "cell_type": "markdown",
   "id": "4febc7b8",
   "metadata": {},
   "source": [
    "## Bonus: Record Student Participation by prompting date\n",
    "\n",
    "- no editable\n",
    "- date can't be manipulated becuase it takes the kernel date, not user computer"
   ]
  },
  {
   "cell_type": "markdown",
   "id": "5f48e1dc",
   "metadata": {},
   "source": [
    "<pre data-executable=\"true\" data-readonly=True data-language=\"python\" element>\n",
    "\n",
    "from datetime import datetime\n",
    "\n",
    "datetime.now()\n",
    "\n",
    "</pre>\n"
   ]
  },
  {
   "cell_type": "code",
   "execution_count": null,
   "id": "3961a8c1",
   "metadata": {},
   "outputs": [],
   "source": []
  }
 ],
 "metadata": {
  "celltoolbar": "Tags",
  "kernelspec": {
   "display_name": "Python 3 (ipykernel)",
   "language": "python",
   "name": "python3"
  },
  "language_info": {
   "codemirror_mode": {
    "name": "ipython",
    "version": 3
   },
   "file_extension": ".py",
   "mimetype": "text/x-python",
   "name": "python",
   "nbconvert_exporter": "python",
   "pygments_lexer": "ipython3",
   "version": "3.8.17"
  }
 },
 "nbformat": 4,
 "nbformat_minor": 5
}