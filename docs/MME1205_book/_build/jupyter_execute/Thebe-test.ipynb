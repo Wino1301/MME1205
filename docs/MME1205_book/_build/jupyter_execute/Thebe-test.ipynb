{
 "cells": [
  {
   "cell_type": "markdown",
   "id": "db1e6ccf",
   "metadata": {},
   "source": [
    "\n",
    "<!-- Configure and load Thebe !-->\n",
    "<script type=\"text/x-thebe-config\">\n",
    "  {\n",
    "    requestKernel: true,\n",
    "    binderOptions: {\n",
    "      repo: \"Wino1301/MME1205\",\n",
    "    },\n",
    "    codeMirrorConfig: {theme: \"blackboard\"},\n",
    "  }\n",
    "</script>\n",
    "<script src=\"https://unpkg.com/thebe@latest/lib/index.js\"></script>"
   ]
  },
  {
   "cell_type": "markdown",
   "id": "b4948481",
   "metadata": {},
   "source": [
    "<button id=\"activateButton\"  style=\"width: 150px; height: 45px; font-size: 1.5em;\">Activate</button>\n",
    "<script>\n",
    "var bootstrapThebe = function() {\n",
    "    thebelab.bootstrap();\n",
    "}\n",
    "\n",
    "document.querySelector(\"#activateButton\").addEventListener('click', bootstrapThebe)\n",
    "</script>"
   ]
  },
  {
   "cell_type": "markdown",
   "id": "ee391087",
   "metadata": {},
   "source": [
    "# Example of Live Feedback In Class"
   ]
  },
  {
   "cell_type": "markdown",
   "id": "25a0aa34",
   "metadata": {},
   "source": [
    "This page serves as an exmaple to use Thebe in live class \n",
    "---\n",
    "- Thebe allows live code edits and runs using BinderHub \n",
    "- Thebe allows hide-input so students does not have acces to cell contents\n",
    "\n",
    "--- \n",
    "- This will aid in the learnes feedback for in class excersises / labs\n",
    "---\n",
    "- Exam / Quizzes should be done entierly on colab or locally"
   ]
  },
  {
   "cell_type": "markdown",
   "id": "985d0af1",
   "metadata": {},
   "source": [
    "## Exercise 1\n",
    "\n",
    "Return the value of raising 5 to the power of 10"
   ]
  },
  {
   "cell_type": "markdown",
   "id": "37c32be5",
   "metadata": {
    "tags": [
     "thebe-init"
    ]
   },
   "source": [
    "<pre data-executable=\"true\" data-language=\"python\">\n",
    "#Your code here\n",
    "5**10\n",
    "</pre>"
   ]
  },
  {
   "cell_type": "markdown",
   "id": "0da1674b",
   "metadata": {},
   "source": [
    "<pre data-executable=\"true\" data-language=\"python\" element hidden>\n",
    "\n",
    "q1 = 0\n",
    "try: \n",
    "    assert _ == 9765625\n",
    "except: \n",
    "    q1 += 1\n",
    "    print(\"That is not the correct answer\")\n",
    "    \n",
    "try:\n",
    "    assert isinstance(_, int)\n",
    "except: \n",
    "    q1 += 1\n",
    "    print(\"Result is not int\")\n",
    "\n",
    "print(\"Hidden Tests Completed\")\n",
    "if q1 != 0:\n",
    "    print(\"Try again!\")\n",
    "else: \n",
    "    print(\"All good!\")\n",
    "</pre>"
   ]
  },
  {
   "cell_type": "code",
   "execution_count": 1,
   "id": "651a7e1b",
   "metadata": {},
   "outputs": [
    {
     "data": {
      "text/plain": [
       "datetime.datetime(2023, 7, 7, 23, 35, 6, 651631)"
      ]
     },
     "execution_count": 1,
     "metadata": {},
     "output_type": "execute_result"
    }
   ],
   "source": [
    "# No thebe-init tag\n",
    "\n",
    "from datetime import datetime\n",
    "datetime.now()"
   ]
  },
  {
   "cell_type": "code",
   "execution_count": null,
   "id": "21918ecd",
   "metadata": {},
   "outputs": [],
   "source": []
  }
 ],
 "metadata": {
  "celltoolbar": "Tags",
  "kernelspec": {
   "display_name": "Python 3 (ipykernel)",
   "language": "python",
   "name": "python3"
  },
  "language_info": {
   "codemirror_mode": {
    "name": "ipython",
    "version": 3
   },
   "file_extension": ".py",
   "mimetype": "text/x-python",
   "name": "python",
   "nbconvert_exporter": "python",
   "pygments_lexer": "ipython3",
   "version": "3.8.17"
  }
 },
 "nbformat": 4,
 "nbformat_minor": 5
}