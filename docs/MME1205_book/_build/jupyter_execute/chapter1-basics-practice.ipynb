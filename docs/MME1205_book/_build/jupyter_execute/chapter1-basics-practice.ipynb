{
 "cells": [
  {
   "cell_type": "markdown",
   "metadata": {},
   "source": [
    "# Python Basics\n",
    "\n",
    "**Tomas Beuzen, September 2020**"
   ]
  },
  {
   "cell_type": "markdown",
   "metadata": {},
   "source": [
    "These exercises complement [Chapter 1](../chapters/chapter1-basics.ipynb)."
   ]
  },
  {
   "cell_type": "markdown",
   "metadata": {},
   "source": [
    "## Exercises"
   ]
  },
  {
   "cell_type": "markdown",
   "metadata": {},
   "source": [
    "### 1."
   ]
  },
  {
   "cell_type": "raw",
   "metadata": {},
   "source": [
    "<!-- Configure and load Thebe !-->\n",
    "\n",
    "<script type=\"text/x-thebe-config\">\n",
    "  {\n",
    "    requestKernel: true,\n",
    "    binderOptions: {\n",
    "      repo: \"Wino1301/MME1205\",\n",
    "    },\n",
    "    mountActivateWidget: true,\n",
    "    mountStatusWidget: true\n",
    "  }\n",
    "</script>\n",
    "<div class=\"thebe-activate\" />\n",
    "<div class=\"thebe-status\" />\n",
    "<script src=\"https://unpkg.com/thebe@latest/lib/index.js\"></script>"
   ]
  },
  {
   "cell_type": "markdown",
   "metadata": {},
   "source": [
    "<button id=\"activateButton\"  style=\"width: 150px; height: 45px; font-size: 1.5em;\">Activate</button>\n",
    "<script>\n",
    "var bootstrapThebe = function() {\n",
    "    thebelab.bootstrap();\n",
    "}\n",
    "\n",
    "document.querySelector(\"#activateButton\").addEventListener('click', bootstrapThebe)\n",
    "</script>"
   ]
  },
  {
   "cell_type": "markdown",
   "metadata": {
    "tags": [
     "thebe-init"
    ]
   },
   "source": [
    "<pre data-executable=\"true\" data-language=\"python\">\n",
    "\n",
    "#This is a markdown test\n",
    "</pre>"
   ]
  },
  {
   "cell_type": "markdown",
   "metadata": {},
   "source": [
    "<pre data-executable=\"true\" data-language=\"python\">\n",
    "\n",
    "#This is a test\n",
    "</pre>"
   ]
  },
  {
   "cell_type": "markdown",
   "metadata": {},
   "source": [
    "What is 5 to the power of 5?"
   ]
  },
  {
   "cell_type": "markdown",
   "metadata": {
    "tags": [
     "thebe-init"
    ]
   },
   "source": [
    "<pre data-executable=\"true\" data-language=\"python\">\n",
    "# Your Answer Here\n",
    "</pre>"
   ]
  },
  {
   "cell_type": "markdown",
   "metadata": {
    "tags": [
     "thebe-init"
    ]
   },
   "source": [
    "<pre data-executable=\"false\" data-language=\"python\">\n",
    "print(\"Running Hidden Tests ...\")\n",
    "test_v = _\n",
    "try: \n",
    "    assert test_v == 3125\n",
    "except:\n",
    "    print(\"This is not the result\")\n",
    "    \n",
    "try: \n",
    "    assert isinstance(test_v , int)\n",
    "except: \n",
    "    print(\"Result is not int\")\n",
    "\n",
    "</pre>\n"
   ]
  },
  {
   "cell_type": "markdown",
   "metadata": {
    "tags": [
     "hide-input"
    ]
   },
   "source": [
    "<pre data-executable=\"false\" data-language=\"python\">\n",
    "print(\"Running Hidden Tests ...\")\n",
    "test_v = _\n",
    "try: \n",
    "    assert test_v == 3125\n",
    "except:\n",
    "    print(\"This is not the result\")\n",
    "    \n",
    "try: \n",
    "    assert isinstance(test_v , int)\n",
    "except: \n",
    "    print(\"Result is not int\")\n",
    "\n",
    "</pre>"
   ]
  },
  {
   "cell_type": "markdown",
   "metadata": {
    "tags": [
     "remove-input"
    ]
   },
   "source": [
    "<pre data-executable=\"false\" data-language=\"python\">\n",
    "print(\"Running Hidden Tests ...\")\n",
    "test_v = _\n",
    "try: \n",
    "    assert test_v == 3125\n",
    "except:\n",
    "    print(\"This is not the result\")\n",
    "    \n",
    "try: \n",
    "    assert isinstance(test_v , int)\n",
    "except: \n",
    "    print(\"Result is not int\")\n",
    "\n",
    "</pre>"
   ]
  },
  {
   "cell_type": "code",
   "execution_count": null,
   "metadata": {},
   "outputs": [],
   "source": []
  }
 ],
 "metadata": {
  "celltoolbar": "Tags",
  "kernelspec": {
   "display_name": "Python 3 (ipykernel)",
   "language": "python",
   "name": "python3"
  },
  "language_info": {
   "codemirror_mode": {
    "name": "ipython",
    "version": 3
   },
   "file_extension": ".py",
   "mimetype": "text/x-python",
   "name": "python",
   "nbconvert_exporter": "python",
   "pygments_lexer": "ipython3",
   "version": "3.8.17"
  }
 },
 "nbformat": 4,
 "nbformat_minor": 4
}