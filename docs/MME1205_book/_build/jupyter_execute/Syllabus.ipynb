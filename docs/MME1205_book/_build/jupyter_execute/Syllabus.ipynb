{
 "cells": [
  {
   "cell_type": "markdown",
   "id": "476856a2",
   "metadata": {},
   "source": [
    "<br>"
   ]
  },
  {
   "cell_type": "markdown",
   "id": "eaac8c6c",
   "metadata": {},
   "source": [
    "# MME 1205 - Graphics CRN: 22860 Spring 2023\n",
    "\n",
    "---\n",
    "\n",
    "**INSTRUCTIONAL TEAM** \n",
    "\n",
    "Dr. Brian E. Schuster, PhD <br>\n",
    "Associate Professor of Metallurgical, Materials and Biomedical Engineering <br>\n",
    "bschuster@utep.edu \n",
    "\n",
    "Erwin Cazares <br> \n",
    "Graduate Teaching Assistant <br> \n",
    "PhD Student in Materials Science and Engineering <br>\n",
    "ecazares3@miners.utep.edu \n",
    "\n",
    "---\n",
    "\n",
    "## COURSE DESCRIPTION\n",
    "\n",
    "\n",
    "MME 1205 (Graphics) is a required 2-credit course (1 hours of lecture and 3 lab hours). <br>\n",
    "\n",
    "Three broad topics will be covered in this class: <br>\n",
    "\n",
    "1) An introduction to the Python programming language <br>\n",
    "<br>\n",
    "2) Applications of Python programming to problems that are unique to Metallurgical, Materials\n",
    "and Biomedical Engineering (MMBME) including numerical analysis of experimental data,\n",
    "quantitative image analysis and basic statistical analysis of material response <br>\n",
    "<br>\n",
    "3) An introduction to digital manufacturing and engineering drawing software using Solidworks\n",
    "The goal of this course is to establish a foundation for numerical analysis, digital manufacturing\n",
    "and computational methods that can be carried forward throughout the rest of the MMBME\n",
    "curriculum.\n",
    "\n",
    "--- \n",
    "\n",
    "## DAILY SCHEDULE\n",
    "\n",
    "|  Day | Time   | Description  \n",
    "|:---:|:---:|:---|\n",
    "| Mon  |  11:59 Pm |Reading assessment due on blackboard   \n",
    "| Tue  | 12:00 - 12:50 pm  | Lecture  \n",
    "| Tue  | 1:00- 3:50 pm|  Laboratory session with hands on assignments and applications of Python and Solidworks  \n",
    "| Wed  | 9:30 am  | Instructor Office Hours (2 hours) M302 or on Teams Alternative times can be scheduled on a case by case basis  "
   ]
  },
  {
   "cell_type": "code",
   "execution_count": null,
   "id": "ad20a766",
   "metadata": {},
   "outputs": [],
   "source": []
  }
 ],
 "metadata": {
  "kernelspec": {
   "display_name": "Python 3 (ipykernel)",
   "language": "python",
   "name": "python3"
  },
  "language_info": {
   "codemirror_mode": {
    "name": "ipython",
    "version": 3
   },
   "file_extension": ".py",
   "mimetype": "text/x-python",
   "name": "python",
   "nbconvert_exporter": "python",
   "pygments_lexer": "ipython3",
   "version": "3.8.17"
  }
 },
 "nbformat": 4,
 "nbformat_minor": 5
}